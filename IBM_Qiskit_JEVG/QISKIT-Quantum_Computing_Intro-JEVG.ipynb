{
 "cells": [
  {
   "cell_type": "markdown",
   "metadata": {},
   "source": [
    "# Bit vs QUBIT\n",
    "\n",
    "A **bit** is the basic unit of information in classical computing, representing a state of either `0` or `1`. It is deterministic, meaning that at any given time, its value is well-defined.\n",
    "\n",
    "In contrast, a **qubit** (quantum bit) is the fundamental unit of quantum information. A qubit can exist in a state of `|0⟩`, `|1⟩`, or any quantum superposition of these states, described mathematically as:\n",
    "\n",
    "- |ψ⟩ = α|0⟩ + β|1⟩\n",
    "\n",
    "\n",
    "where `α` and `β` are complex amplitudes satisfying the normalization condition: \n",
    "\n",
    "- |α|² + |β|² = 1\n",
    "\n",
    "The qubit also supports quantum phenomena like superposition, entanglement, and interference, enabl\n",
    "\n",
    "## Measurment in the computational basis \n",
    "\n",
    "## Collapsing \n",
    "\n",
    "in above example, when the system is observed in state |0, then the new state becomes (1; 0)\n",
    "\n",
    "if it observed in state |1, then the new state becomes\n"
   ]
  },
  {
   "cell_type": "markdown",
   "metadata": {},
   "source": [
    "# FIRST EXCERCISE \n",
    "\n",
    "- Define  qubit usign Python and Qiskit\n",
    "- Create a circuit\n",
    "- Plot the circuit: we can use  print(qc), qc.draw(), display(qc.draw())\n",
    "\n"
   ]
  },
  {
   "cell_type": "code",
   "execution_count": 3,
   "metadata": {},
   "outputs": [
    {
     "name": "stdout",
     "output_type": "stream",
     "text": [
      "         \n",
      "  q_reg: \n",
      "         \n",
      "c_reg: 1/\n",
      "         \n"
     ]
    }
   ],
   "source": [
    "import matplotlib\n",
    "matplotlib.use('TkAgg')  # O cualquier otro backend interactivo que funcione en tu sistema\n",
    "\n",
    "from qiskit import QuantumRegister, ClassicalRegister, QuantumCircuit\n",
    "import matplotlib.pyplot as plt\n",
    "\n",
    "# Creación de registros\n",
    "q = QuantumRegister(1, 'q_reg')\n",
    "c = ClassicalRegister(1, 'c_reg')\n",
    "\n",
    "# Creación del circuito\n",
    "qc = QuantumCircuit(q, c)\n",
    "print(qc)"
   ]
  },
  {
   "cell_type": "code",
   "execution_count": 4,
   "metadata": {},
   "outputs": [
    {
     "data": {
      "text/html": [
       "<pre style=\"word-wrap: normal;white-space: pre;background: #fff0;line-height: 1.1;font-family: &quot;Courier New&quot;,Courier,monospace\">         \n",
       "  q_reg: \n",
       "         \n",
       "c_reg: 1/\n",
       "         </pre>"
      ],
      "text/plain": [
       "         \n",
       "  q_reg: \n",
       "         \n",
       "c_reg: 1/\n",
       "         "
      ]
     },
     "execution_count": 4,
     "metadata": {},
     "output_type": "execute_result"
    }
   ],
   "source": [
    "qc.draw()"
   ]
  },
  {
   "cell_type": "code",
   "execution_count": 5,
   "metadata": {},
   "outputs": [
    {
     "data": {
      "text/html": [
       "<pre style=\"word-wrap: normal;white-space: pre;background: #fff0;line-height: 1.1;font-family: &quot;Courier New&quot;,Courier,monospace\">         \n",
       "  q_reg: \n",
       "         \n",
       "c_reg: 1/\n",
       "         </pre>"
      ],
      "text/plain": [
       "         \n",
       "  q_reg: \n",
       "         \n",
       "c_reg: 1/\n",
       "         "
      ]
     },
     "metadata": {},
     "output_type": "display_data"
    }
   ],
   "source": [
    "display(qc.draw())"
   ]
  },
  {
   "cell_type": "markdown",
   "metadata": {},
   "source": [
    "---\n",
    "\n",
    "## Quantum Gates\n",
    "\n",
    "Quantum gates are the building blocks of quantum circuits. They manipulate the state of qubits using unitary transformations. Below are some common quantum gates:\n",
    "\n",
    "### 1. X (Pauli-X) Gate\n",
    "- **Description**: Acts as a quantum NOT gate. It flips the state of the qubit: `|0⟩ ↔ |1⟩`.\n",
    "- **Matrix**:\n",
    "X = [[0, 1], [1, 0]]\n",
    "\n",
    "\n",
    "### 2. Z (Pauli-Z) Gate\n",
    "- **Description**: Flips the phase of the `|1⟩` state, leaving `|0⟩` unchanged.\n",
    "- **Matrix**:\n",
    "Z = [[1, 0], [0, -1]]\n",
    "\n",
    "\n",
    "### 3. H (Hadamard) Gate\n",
    "- **Description**: Creates a superposition of states by mapping `|0⟩` to `(1/√2)(|0⟩ + |1⟩)` and `|1⟩` to `(1/√2)(|0⟩ - |1⟩)`.\n",
    "- **Matrix**:\n",
    "H = (1/√2) * [[1, 1], [1, -1]]\n",
    "\n",
    "\n",
    "### 4. S (Phase) Gate\n",
    "- **Description**: Adds a phase of `i` to the `|1⟩` state.\n",
    "- **Matrix**:\n",
    "S = [[1, 0], [0, i]]\n",
    "\n",
    "\n",
    "### 5. CNOT (Controlled-NOT) Gate\n",
    "- **Description**: A two-qubit gate where the second qubit (target) is flipped if the first qubit (control) is in the state `|1⟩`.\n",
    "- **Matrix**:\n",
    "CNOT = [[1, 0, 0, 0], [0, 1, 0, 0], [0, 0, 0, 1], [0, 0, 1, 0]]\n",
    "\n",
    "\n",
    "### 6. SWAP Gate\n",
    "- **Description**: Interchanges the states of two qubits.\n",
    "- **Matrix**:\n",
    "SWAP = [[1, 0, 0, 0], [0, 0, 1, 0], [0, 1, 0, 0], [0, 0, 0, 1]]\n",
    "\n",
    "\n",
    "### 7. Toffoli (CCNOT) Gate\n",
    "- **Description**: A three-qubit gate that flips the state of the third qubit (target) if the first two qubits (controls) are in the state `|1⟩`.\n",
    "- **Matrix**:\n",
    "Toffoli = [[1, 0, 0, 0, 0, 0, 0, 0], [0, 1, 0, 0, 0, 0, 0, 0], [0, 0, 1, 0, 0, 0, 0, 0], [0, 0, 0, 1, 0, 0, 0, 0], [0, 0, 0, 0, 1, 0, 0, 0], [0, 0, 0, 0, 0, 1, 0, 0], [0, 0, 0, 0, 0, 0, 0, 1], [0, 0, 0, 0, 0, 0, 1, 0]]\n",
    "\n",
    "\n",
    "These gates, when combined in various configurations, form quantum circuits capable of performing complex"
   ]
  },
  {
   "cell_type": "markdown",
   "metadata": {},
   "source": [
    "### Adding the NOT gate\n",
    "\n",
    "We add the \"X\" gate to the first position q(0)"
   ]
  },
  {
   "cell_type": "code",
   "execution_count": 8,
   "metadata": {},
   "outputs": [
    {
     "name": "stdout",
     "output_type": "stream",
     "text": [
      "         ┌───┐\n",
      "  q_reg: ┤ X ├\n",
      "         └───┘\n",
      "c_reg: 1/═════\n",
      "              \n"
     ]
    }
   ],
   "source": [
    "import matplotlib\n",
    "matplotlib.use('TkAgg')  # O cualquier otro backend interactivo que funcione en tu sistema\n",
    "\n",
    "from qiskit import QuantumRegister, ClassicalRegister, QuantumCircuit\n",
    "import matplotlib.pyplot as plt\n",
    "\n",
    "# Creación de registros\n",
    "q = QuantumRegister(1, 'q_reg')\n",
    "c = ClassicalRegister(1, 'c_reg')\n",
    "\n",
    "# Creación del circuito\n",
    "qc = QuantumCircuit(q, c)\n",
    "qc.x(q[0])\n",
    "\n",
    "print(qc)\n"
   ]
  },
  {
   "cell_type": "code",
   "execution_count": 21,
   "metadata": {},
   "outputs": [
    {
     "name": "stdout",
     "output_type": "stream",
     "text": [
      "         ┌───┐┌─┐\n",
      "  q_reg: ┤ H ├┤M├\n",
      "         └───┘└╥┘\n",
      "c_reg: 1/══════╩═\n",
      "               0 \n"
     ]
    }
   ],
   "source": [
    "import matplotlib\n",
    "qc.draw(output='mpl')\n",
    "print(qc)"
   ]
  },
  {
   "cell_type": "markdown",
   "metadata": {},
   "source": [
    "### Use of meassure"
   ]
  },
  {
   "cell_type": "code",
   "execution_count": 2,
   "metadata": {},
   "outputs": [
    {
     "data": {
      "image/png": "[encoded data removed]",
      "text/plain": [
       "<IPython.core.display.Image object>"
      ]
     },
     "execution_count": 2,
     "metadata": {},
     "output_type": "execute_result"
    }
   ],
   "source": [
    "import matplotlib\n",
    "matplotlib.use('TkAgg')  # O cualquier otro backend interactivo que funcione en tu sistema\n",
    "\n",
    "from qiskit import QuantumRegister, ClassicalRegister, QuantumCircuit\n",
    "import matplotlib.pyplot as plt\n",
    "\n",
    "# Creación de registros\n",
    "q = QuantumRegister(1, 'q_reg')\n",
    "c = ClassicalRegister(1, 'c_reg')\n",
    "\n",
    "# Creación del circuito\n",
    "qc = QuantumCircuit(q, c)\n",
    "qc.h(q[0])\n",
    "qc.measure(q[0], c[0])\n",
    "\n",
    "# Dibujando el circuito\n",
    "fig = qc.draw(output='mpl')\n",
    "\n",
    "# Guardar la figura en un archivo\n",
    "fig.savefig('circuito.png')\n",
    "\n",
    "# Mostrar la figura en el notebook\n",
    "plt.show()\n",
    "\n",
    "# Mostrar la imagen guardada en el notebook\n",
    "from IPython.display import Image\n",
    "Image(filename='circuito.png')\n"
   ]
  },
  {
   "cell_type": "code",
   "execution_count": 15,
   "metadata": {},
   "outputs": [
    {
     "data": {
      "text/plain": [
       "<qiskit.circuit.instructionset.InstructionSet at 0x287b5ea5a30>"
      ]
     },
     "execution_count": 15,
     "metadata": {},
     "output_type": "execute_result"
    }
   ],
   "source": [
    "import matplotlib\n",
    "matplotlib.use('TkAgg')  # O cualquier otro backend interactivo que funcione en tu sistema\n",
    "\n",
    "from qiskit import QuantumRegister, ClassicalRegister, QuantumCircuit\n",
    "import matplotlib.pyplot as plt\n",
    "\n",
    "# Creación de registros\n",
    "q = QuantumRegister(1, 'q_reg')\n",
    "\n",
    "# Creación del circuito\n",
    "qc = QuantumCircuit(q, c)\n",
    "qc.h(q[0])"
   ]
  },
  {
   "cell_type": "code",
   "execution_count": 17,
   "metadata": {},
   "outputs": [
    {
     "data": {
      "text/latex": [
       "$$\\frac{\\sqrt{2}}{2} |0\\rangle+\\frac{\\sqrt{2}}{2} |1\\rangle$$"
      ],
      "text/plain": [
       "<IPython.core.display.Latex object>"
      ]
     },
     "execution_count": 17,
     "metadata": {},
     "output_type": "execute_result"
    }
   ],
   "source": [
    "from qiskit.quantum_info import Statevector\n",
    "ket = Statevector(qc)\n",
    "ket.draw(\"LateX\")"
   ]
  },
  {
   "cell_type": "code",
   "execution_count": 22,
   "metadata": {},
   "outputs": [
    {
     "data": {
      "image/png": "[encoded data removed]",
      "text/plain": [
       "<Figure size 238.871x144.48 with 1 Axes>"
      ]
     },
     "execution_count": 22,
     "metadata": {},
     "output_type": "execute_result"
    },
    {
     "data": {
      "image/png": "[encoded data removed]",
      "text/plain": [
       "<Figure size 238.871x144.48 with 1 Axes>"
      ]
     },
     "metadata": {},
     "output_type": "display_data"
    }
   ],
   "source": [
    "import matplotlib\n",
    "matplotlib.use('TkAgg')  # O cualquier otro backend interactivo que funcione en tu sistema\n",
    "\n",
    "import numpy as np\n",
    "from qiskit import QuantumRegister, ClassicalRegister, QuantumCircuit\n",
    "import matplotlib.pyplot as plt\n",
    "\n",
    "# Creación de registros\n",
    "q = QuantumRegister(1, 'q_reg')\n",
    "c = ClassicalRegister(1, 'c_reg')\n",
    "\n",
    "# Creación del circuito\n",
    "qc = QuantumCircuit(q, c)\n",
    "\n",
    "# Select the qubits by their initial state\n",
    "q_int = [0]\n",
    "\n",
    "# Initialize qubit states\n",
    "qc.initialize([1/np.sqrt(2), 1/np.sqrt(2)], q[q_int])\n",
    "\n",
    "# qc.measure(q, c)\n",
    "qc.draw(output='mpl')"
   ]
  },
  {
   "cell_type": "markdown",
   "metadata": {},
   "source": [
    "# Representation of a qubit state\n",
    "\n",
    "## Unique representation of \"equivalent\" quantum states\n",
    "\n",
    "The state of any qubit can be written as:\n",
    "\n",
    "$$\n",
    "|\\psi\\rangle = \\alpha|0\\rangle + \\beta|1\\rangle,\n",
    "$$\n",
    "\n",
    "where $\\alpha, \\beta \\in \\mathbb{C}$ and $|\\alpha|^2 + |\\beta|^2 = 1$.\n",
    "\n",
    "So, to describe the state of a qubit one needs 4 numbers:\n",
    "- the real part of $\\alpha$,\n",
    "- the imaginary part of $\\alpha$,\n",
    "- the real part of $\\beta$,\n",
    "- the imaginary part of $\\beta$.\n",
    "\n",
    "i.e. one needs 4d space to represent $ |\\psi\\rangle $. But, by using the condition $|\\alpha|^2 + |\\beta|^2 = 1$, one can reduce the number of parameters to $2 \\times 2 - 1 = 3$. There exists a parameter $\\theta \\in [0, \\pi]$ such that:\n",
    "\n",
    "$$\n",
    "|\\alpha| = \\cos \\frac{\\theta}{2}, \\quad |\\beta| = \\sin \\frac{\\theta}{2} \\tag{2}\n",
    "$$\n",
    "\n",
    "and\n",
    "\n",
    "$$\n",
    "|\\psi\\rangle = e^{i\\phi} \\left( \\cos \\frac{\\theta}{2}|0\\rangle + e^{i\\phi} \\sin \\frac{\\theta}{2}|1\\rangle \\right). \\tag{3}\n",
    "$$\n"
   ]
  }
 ],
 "metadata": {
  "kernelspec": {
   "display_name": "CondaQiskitJEVG",
   "language": "python",
   "name": "python3"
  },
  "language_info": {
   "codemirror_mode": {
    "name": "ipython",
    "version": 3
   },
   "file_extension": ".py",
   "mimetype": "text/x-python",
   "name": "python",
   "nbconvert_exporter": "python",
   "pygments_lexer": "ipython3",
   "version": "3.9.19"
  }
 },
 "nbformat": 4,
 "nbformat_minor": 2
}
